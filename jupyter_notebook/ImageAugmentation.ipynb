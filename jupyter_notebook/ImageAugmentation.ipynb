{
 "cells": [
  {
   "cell_type": "markdown",
   "metadata": {},
   "source": [
    "# Image Augmentation \n",
    "### Anforderungen:\n",
    "- tensorflow\n",
    "- keras\n",
    "- pillow\n",
    "\n",
    "für Mac OS User eventuell erforderlich um die Graphen zu plotten:\n",
    "- conda install nomkl "
   ]
  },
  {
   "cell_type": "markdown",
   "metadata": {},
   "source": [
    "## Inhaltsverzeichnis\n",
    "<ol>\n",
    "    <li><a href=\"#einleitung\">Einleitung</a></li>\n",
    "    <li><a href=\"#schluss\">Schlussteil</a></li>\n",
    "    <li><a href=\"#quellen\">Quellenverzeichnis</a></li>\n",
    "</ol>\n",
    "\n",
    "## Einleitung <div id=\"einleitung\" />\n",
    "- Probleme mit zu kleinem Datenset => führte zu Overfitting\n",
    "- wie man Overfitting erkennt\n",
    "- welche Maßnahmen es gegen Overfitting gibt\n",
    "\n",
    "Overfitting bezieht sich auf ein Model, das den Trainingsdatensatz zu gut gelernt hat, einschließlich des statistischen Rauschens oder zufälliger Schwankungen im Trainingsdatensatz.\n",
    "\n",
    "![test](../assets/overfitting.jpeg)\n",
    "_Abbildung 1: Beispielkurve für Overfitting aus dem Training für Hunderassenklassifizierung_"
   ]
  },
  {
   "cell_type": "markdown",
   "metadata": {},
   "source": [
    "### Import der Bibliotheken"
   ]
  },
  {
   "cell_type": "code",
   "execution_count": 9,
   "metadata": {},
   "outputs": [],
   "source": [
    "import urllib\n",
    "\n",
    "import tensorflow as tf\n",
    "# from tensorflow.keras.datasets import mnist\n",
    "from tensorflow.keras import layers\n",
    "AUTOTUNE = tf.data.experimental.AUTOTUNE\n",
    "\n",
    "import tensorflow_datasets as tfds\n",
    "\n",
    "from PIL import Image\n",
    "\n",
    "import matplotlib.pyplot as plt\n",
    "import matplotlib as mpl\n",
    "mpl.rcParams['figure.figsize'] = (12, 5)\n",
    "\n",
    "import numpy as np"
   ]
  },
  {
   "cell_type": "markdown",
   "metadata": {},
   "source": [
    "## Beispiel Image Augmentation mit Tensorflow\n",
    "\n",
    "Importieren einen Bildes"
   ]
  },
  {
   "cell_type": "code",
   "execution_count": null,
   "metadata": {},
   "outputs": [],
   "source": [
    "image_path = tf.keras.utils.get_file(\"good_boy.jpg\", \"https://raw.githubusercontent.com/MajusLenz/Dogspiracy-machine-learning/master/data/images/predict/good_boy.jpg\")\n",
    "Image.open(image_path)\n"
   ]
  },
  {
   "cell_type": "markdown",
   "metadata": {},
   "source": [
    "Das Bild wird in Tensorflow Format konvertiert:"
   ]
  },
  {
   "cell_type": "code",
   "execution_count": null,
   "metadata": {},
   "outputs": [],
   "source": [
    "image_string=tf.io.read_file(image_path)\n",
    "image=tf.image.decode_jpeg(image_string,channels=3)"
   ]
  },
  {
   "cell_type": "markdown",
   "metadata": {},
   "source": [
    "Über eine Funktion kann das Originalbild mit dem augmentierten Bild verglichen werden:"
   ]
  },
  {
   "cell_type": "code",
   "execution_count": null,
   "metadata": {},
   "outputs": [],
   "source": [
    "def visualize(original, augmented):\n",
    "  fig = plt.figure()\n",
    "  plt.subplot(1,2,1)\n",
    "  plt.title('Original image')\n",
    "  plt.imshow(original)\n",
    "\n",
    "  plt.subplot(1,2,2)\n",
    "  plt.title('Augmented image')\n",
    "  plt.imshow(augmented)\n"
   ]
  },
  {
   "cell_type": "markdown",
   "metadata": {},
   "source": [
    "Das Bild drehen:"
   ]
  },
  {
   "cell_type": "code",
   "execution_count": null,
   "metadata": {
    "scrolled": true
   },
   "outputs": [],
   "source": [
    "flipped = tf.image.flip_left_right(image)\n",
    "visualize(image, flipped)"
   ]
  },
  {
   "cell_type": "markdown",
   "metadata": {},
   "source": [
    "Saturation"
   ]
  },
  {
   "cell_type": "code",
   "execution_count": null,
   "metadata": {
    "scrolled": true
   },
   "outputs": [],
   "source": [
    "saturated = tf.image.adjust_saturation(image, 3)\n",
    "visualize(image, saturated)\n"
   ]
  },
  {
   "cell_type": "markdown",
   "metadata": {},
   "source": [
    "Helligkeit:"
   ]
  },
  {
   "cell_type": "code",
   "execution_count": null,
   "metadata": {},
   "outputs": [],
   "source": [
    "bright = tf.image.adjust_brightness(image, 0.4)\n",
    "visualize(image, bright)"
   ]
  },
  {
   "cell_type": "markdown",
   "metadata": {},
   "source": [
    "Kontrast:"
   ]
  },
  {
   "cell_type": "code",
   "execution_count": null,
   "metadata": {},
   "outputs": [],
   "source": [
    "contrast = tf.image.adjust_contrast(image, 2)\n",
    "visualize(image, contrast)"
   ]
  },
  {
   "cell_type": "markdown",
   "metadata": {},
   "source": [
    "Rotation"
   ]
  },
  {
   "cell_type": "code",
   "execution_count": null,
   "metadata": {},
   "outputs": [],
   "source": [
    "rotated = tf.image.rot90(image)\n",
    "visualize(image, rotated)"
   ]
  },
  {
   "cell_type": "markdown",
   "metadata": {},
   "source": [
    "Crop"
   ]
  },
  {
   "cell_type": "code",
   "execution_count": null,
   "metadata": {
    "scrolled": true
   },
   "outputs": [],
   "source": [
    "cropped = tf.image.central_crop(image, central_fraction=0.6)\n",
    "visualize(image,cropped)\n"
   ]
  },
  {
   "cell_type": "code",
   "execution_count": null,
   "metadata": {
    "scrolled": false
   },
   "outputs": [],
   "source": [
    "quality = tf.image.adjust_jpeg_quality(image, 20)\n",
    "visualize(image,quality)"
   ]
  },
  {
   "cell_type": "markdown",
   "metadata": {},
   "source": [
    "## Image Augmentation am Beispiel vom MNIST Datensatz"
   ]
  },
  {
   "cell_type": "markdown",
   "metadata": {},
   "source": [
    "In diesem Abschnitt wird der MNIST-Datensatz mit handgeschriebene Ziffern verwendet. MNIST enthält einen Trainingsdatensatz mit 60.000 Bildern und einen Testdatensatz mit 10.000 Bildern. Die Ziffern wurden größennormalisiert und in einem Bild mit fester Größe zentriert.\n",
    "\n",
    "_\"It is a good database for people who want to try learning techniques and pattern recognition methods on real-world data while spending minimal efforts on preprocessing and formatting.\"_ \n",
    "\n",
    "[MINST Webseite](http://yann.lecun.com/exdb/mnist/) \n",
    "\n",
    "Im Kontext des Jupyter Nodebooks wurde sich deshalb entschieden diesen Datensatz zu verwenden, um eine schnelle Ausführbarkeit und Experimentieren mit Parametern zu ermöglichen. Über das Package _tensorflow_datasets_ gibt es die Möglichkeit vorgefertigte Datensets herunterzuladen.\n",
    "\n",
    "Im folgenden wird das Datenset geladen und die Form des Datensatzes ausgegeben:"
   ]
  },
  {
   "cell_type": "code",
   "execution_count": 34,
   "metadata": {},
   "outputs": [
    {
     "name": "stderr",
     "output_type": "stream",
     "text": [
      "WARNING:absl:Warning: Setting shuffle_files=True because split=TRAIN and shuffle_files=None. This behavior will be deprecated on 2019-08-06, at which point shuffle_files=False will be the default for all splits.\n"
     ]
    },
    {
     "name": "stdout",
     "output_type": "stream",
     "text": [
      "Größe des Trainingsdatensatzes: 60000\n",
      "Größe des Testdatensatzes: 10000\n",
      "Image(shape=(28, 28, 1), dtype=tf.uint8)\n",
      "ClassLabel(shape=(), dtype=tf.int64, num_classes=10)\n"
     ]
    }
   ],
   "source": [
    "dataset, info =  tfds.load('mnist', as_supervised=True, with_info=True)\n",
    "train_dataset, test_dataset = dataset['train'], dataset['test']\n",
    "\n",
    "num_train_examples= info.splits['train'].num_examples\n",
    "\n",
    "print(\"Größe des Trainingsdatensatzes: \"+ str(info.splits['train'].num_examples))\n",
    "print(\"Größe des Testdatensatzes: \"+ str(info.splits['test'].num_examples))\n",
    "print(info.features['image'])\n",
    "print(info.features['label'])"
   ]
  },
  {
   "cell_type": "markdown",
   "metadata": {},
   "source": [
    "Aus den Ziffern 0 bis 9 ergeben sich 10 Klassen. Die Bilder haben die Form 28x28 Pixel und sind in Graustufen."
   ]
  },
  {
   "cell_type": "markdown",
   "metadata": {},
   "source": [
    "### Augmentierung"
   ]
  },
  {
   "cell_type": "markdown",
   "metadata": {},
   "source": [
    "Da die Bilder des MNIST Datensatzen in Graustufen vorliegen, ergibt es keinen Sinn random_saturation zu nutzen. Außerdem sollte auch Spiegelung (flip_left_right) nicht eingesetzt werden, da das CNN sonst gespiegelte Zahlen lernt. "
   ]
  },
  {
   "cell_type": "code",
   "execution_count": 35,
   "metadata": {},
   "outputs": [],
   "source": [
    "def augment(image,label):\n",
    "  image = tf.image.convert_image_dtype(image, tf.float32) # Cast and normalize the image to [0,1]\n",
    "  image = tf.image.resize_with_crop_or_pad(image, 34, 34) # Add 6 pixels of padding\n",
    "  image = tf.image.random_crop(image, size=[28, 28, 1]) # Random crop back to 28x28\n",
    "  image = tf.image.random_brightness(image, max_delta=0.5) # Random brightness\n",
    "    \n",
    "  return image,label"
   ]
  },
  {
   "cell_type": "markdown",
   "metadata": {},
   "source": [
    "### Vorbereitung des Trainings \n",
    "\n",
    "Über eine Hilfsmethode werden die Bilder normalisiert. Um Overfitting zu erzeugen wird nur ein Subset des Datensets zum Trainieren verwendet."
   ]
  },
  {
   "cell_type": "code",
   "execution_count": 36,
   "metadata": {},
   "outputs": [],
   "source": [
    "def convert(image, label):\n",
    "  image = tf.image.convert_image_dtype(image, tf.float32) # Cast and normalize the image to [0,1]\n",
    "  return image, label\n",
    "\n",
    "BATCH_SIZE = 64\n",
    "NUM_SUBSET = 2048\n",
    "\n",
    "augmented_train_batches = (\n",
    "    train_dataset\n",
    "    .take(NUM_SUBSET)\n",
    "    .cache()\n",
    "    .shuffle(num_train_examples//4)\n",
    "    .map(augment, num_parallel_calls=AUTOTUNE) # mit Augmentation\n",
    "    .batch(BATCH_SIZE)\n",
    "    .prefetch(AUTOTUNE)\n",
    ") \n",
    "\n",
    "non_augmented_train_batches = (\n",
    "    train_dataset\n",
    "    .take(NUM_SUBSET)\n",
    "    .cache()\n",
    "    .shuffle(num_train_examples//4)\n",
    "    .map(convert, num_parallel_calls=AUTOTUNE) # ohne Augmentation\n",
    "    .batch(BATCH_SIZE)\n",
    "    .prefetch(AUTOTUNE)\n",
    ") \n",
    "\n",
    "validation_batches = (\n",
    "    test_dataset\n",
    "    .map(convert, num_parallel_calls=AUTOTUNE)\n",
    "    .batch(2*BATCH_SIZE)\n",
    ")"
   ]
  },
  {
   "cell_type": "markdown",
   "metadata": {},
   "source": [
    "### Model"
   ]
  },
  {
   "cell_type": "code",
   "execution_count": 5,
   "metadata": {},
   "outputs": [],
   "source": [
    "def make_model():\n",
    "  model = tf.keras.Sequential([\n",
    "      layers.Flatten(input_shape=(28, 28, 1)),\n",
    "      layers.Dense(4096, activation='relu'),\n",
    "      layers.Dense(4096, activation='relu'),\n",
    "      layers.Dense(10)\n",
    "  ])\n",
    "  model.compile(optimizer = 'adam',\n",
    "                loss=tf.losses.SparseCategoricalCrossentropy(from_logits=True),\n",
    "                metrics=['accuracy'])\n",
    "  return model"
   ]
  },
  {
   "cell_type": "markdown",
   "metadata": {},
   "source": [
    "### Training im Vergleich"
   ]
  },
  {
   "cell_type": "code",
   "execution_count": 8,
   "metadata": {},
   "outputs": [
    {
     "name": "stdout",
     "output_type": "stream",
     "text": [
      "Epoch 1/20\n",
      "32/32 [==============================] - 16s 507ms/step - loss: 0.8278 - accuracy: 0.7598 - val_loss: 0.0000e+00 - val_accuracy: 0.0000e+00\n",
      "Epoch 2/20\n",
      "32/32 [==============================] - 16s 509ms/step - loss: 0.2165 - accuracy: 0.9360 - val_loss: 0.0000e+00 - val_accuracy: 0.0000e+00\n",
      "Epoch 3/20\n",
      "32/32 [==============================] - 16s 509ms/step - loss: 0.1114 - accuracy: 0.9673 - val_loss: 0.0000e+00 - val_accuracy: 0.0000e+00\n",
      "Epoch 4/20\n",
      "32/32 [==============================] - 16s 500ms/step - loss: 0.0467 - accuracy: 0.9873 - val_loss: 0.0000e+00 - val_accuracy: 0.0000e+00\n",
      "Epoch 5/20\n",
      "32/32 [==============================] - 17s 518ms/step - loss: 0.0637 - accuracy: 0.9751 - val_loss: 0.0000e+00 - val_accuracy: 0.0000e+00\n",
      "Epoch 6/20\n",
      "32/32 [==============================] - 17s 520ms/step - loss: 0.0368 - accuracy: 0.9849 - val_loss: 0.0000e+00 - val_accuracy: 0.0000e+00\n",
      "Epoch 7/20\n",
      "32/32 [==============================] - 16s 515ms/step - loss: 0.0367 - accuracy: 0.9873 - val_loss: 0.0000e+00 - val_accuracy: 0.0000e+00\n",
      "Epoch 8/20\n",
      "32/32 [==============================] - 17s 526ms/step - loss: 0.0377 - accuracy: 0.9897 - val_loss: 0.0000e+00 - val_accuracy: 0.0000e+00\n",
      "Epoch 9/20\n",
      "32/32 [==============================] - 17s 528ms/step - loss: 0.0314 - accuracy: 0.9888 - val_loss: 0.0000e+00 - val_accuracy: 0.0000e+00\n",
      "Epoch 10/20\n",
      "32/32 [==============================] - 16s 509ms/step - loss: 0.0187 - accuracy: 0.9932 - val_loss: 0.0000e+00 - val_accuracy: 0.0000e+00\n",
      "Epoch 11/20\n",
      "32/32 [==============================] - 16s 506ms/step - loss: 0.0581 - accuracy: 0.9829 - val_loss: 0.0000e+00 - val_accuracy: 0.0000e+00\n",
      "Epoch 12/20\n",
      "32/32 [==============================] - 16s 512ms/step - loss: 0.0503 - accuracy: 0.9839 - val_loss: 0.0000e+00 - val_accuracy: 0.0000e+00\n",
      "Epoch 13/20\n",
      "32/32 [==============================] - 17s 516ms/step - loss: 0.0380 - accuracy: 0.9883 - val_loss: 0.0000e+00 - val_accuracy: 0.0000e+00\n",
      "Epoch 14/20\n",
      "32/32 [==============================] - 16s 506ms/step - loss: 0.0190 - accuracy: 0.9951 - val_loss: 0.0000e+00 - val_accuracy: 0.0000e+00\n",
      "Epoch 15/20\n",
      "32/32 [==============================] - 16s 504ms/step - loss: 0.0106 - accuracy: 0.9961 - val_loss: 0.0000e+00 - val_accuracy: 0.0000e+00\n",
      "Epoch 16/20\n",
      "32/32 [==============================] - 16s 505ms/step - loss: 0.0130 - accuracy: 0.9951 - val_loss: 0.0000e+00 - val_accuracy: 0.0000e+00\n",
      "Epoch 17/20\n",
      "32/32 [==============================] - 16s 509ms/step - loss: 0.0203 - accuracy: 0.9941 - val_loss: 0.0000e+00 - val_accuracy: 0.0000e+00\n",
      "Epoch 18/20\n",
      "32/32 [==============================] - 16s 510ms/step - loss: 0.0522 - accuracy: 0.9868 - val_loss: 0.0000e+00 - val_accuracy: 0.0000e+00\n",
      "Epoch 19/20\n",
      "32/32 [==============================] - 16s 511ms/step - loss: 0.0193 - accuracy: 0.9932 - val_loss: 0.0000e+00 - val_accuracy: 0.0000e+00\n",
      "Epoch 20/20\n",
      "32/32 [==============================] - 16s 504ms/step - loss: 0.0085 - accuracy: 0.9971 - val_loss: 0.0000e+00 - val_accuracy: 0.0000e+00\n",
      "Epoch 1/20\n",
      "32/32 [==============================] - 17s 526ms/step - loss: 2.4013 - accuracy: 0.2852 - val_loss: 0.0000e+00 - val_accuracy: 0.0000e+00\n",
      "Epoch 2/20\n",
      "32/32 [==============================] - 16s 515ms/step - loss: 1.4692 - accuracy: 0.5015 - val_loss: 0.0000e+00 - val_accuracy: 0.0000e+00\n",
      "Epoch 3/20\n",
      "32/32 [==============================] - 16s 505ms/step - loss: 1.0665 - accuracy: 0.6450 - val_loss: 0.0000e+00 - val_accuracy: 0.0000e+00\n",
      "Epoch 4/20\n",
      "32/32 [==============================] - 17s 517ms/step - loss: 0.8371 - accuracy: 0.7417 - val_loss: 0.0000e+00 - val_accuracy: 0.0000e+00\n",
      "Epoch 5/20\n",
      "32/32 [==============================] - 17s 522ms/step - loss: 0.6915 - accuracy: 0.7803 - val_loss: 0.0000e+00 - val_accuracy: 0.0000e+00\n",
      "Epoch 6/20\n",
      "32/32 [==============================] - 17s 523ms/step - loss: 0.6655 - accuracy: 0.7842 - val_loss: 0.0000e+00 - val_accuracy: 0.0000e+00\n",
      "Epoch 7/20\n",
      "32/32 [==============================] - 16s 509ms/step - loss: 0.6261 - accuracy: 0.7993 - val_loss: 0.0000e+00 - val_accuracy: 0.0000e+00\n",
      "Epoch 8/20\n",
      "32/32 [==============================] - 16s 514ms/step - loss: 0.5408 - accuracy: 0.8276 - val_loss: 0.0000e+00 - val_accuracy: 0.0000e+00\n",
      "Epoch 9/20\n",
      "32/32 [==============================] - 16s 513ms/step - loss: 0.5368 - accuracy: 0.8281 - val_loss: 0.0000e+00 - val_accuracy: 0.0000e+00\n",
      "Epoch 10/20\n",
      "32/32 [==============================] - 17s 517ms/step - loss: 0.4595 - accuracy: 0.8516 - val_loss: 0.0000e+00 - val_accuracy: 0.0000e+00\n",
      "Epoch 11/20\n",
      "32/32 [==============================] - 16s 510ms/step - loss: 0.4366 - accuracy: 0.8667 - val_loss: 0.0000e+00 - val_accuracy: 0.0000e+00\n",
      "Epoch 12/20\n",
      "32/32 [==============================] - 16s 509ms/step - loss: 0.3880 - accuracy: 0.8755 - val_loss: 0.0000e+00 - val_accuracy: 0.0000e+00\n",
      "Epoch 13/20\n",
      "32/32 [==============================] - 17s 518ms/step - loss: 0.3801 - accuracy: 0.8794 - val_loss: 0.0000e+00 - val_accuracy: 0.0000e+00\n",
      "Epoch 14/20\n",
      "32/32 [==============================] - 16s 510ms/step - loss: 0.4013 - accuracy: 0.8716 - val_loss: 0.0000e+00 - val_accuracy: 0.0000e+00\n",
      "Epoch 15/20\n",
      "32/32 [==============================] - 16s 503ms/step - loss: 0.3741 - accuracy: 0.8818 - val_loss: 0.0000e+00 - val_accuracy: 0.0000e+00\n",
      "Epoch 16/20\n",
      "32/32 [==============================] - 16s 515ms/step - loss: 0.3591 - accuracy: 0.8906 - val_loss: 0.0000e+00 - val_accuracy: 0.0000e+00\n",
      "Epoch 17/20\n",
      "32/32 [==============================] - 16s 514ms/step - loss: 0.3554 - accuracy: 0.8848 - val_loss: 0.0000e+00 - val_accuracy: 0.0000e+00\n",
      "Epoch 18/20\n",
      "32/32 [==============================] - 17s 524ms/step - loss: 0.3115 - accuracy: 0.9009 - val_loss: 0.0000e+00 - val_accuracy: 0.0000e+00\n",
      "Epoch 19/20\n",
      "32/32 [==============================] - 17s 532ms/step - loss: 0.3167 - accuracy: 0.8867 - val_loss: 0.0000e+00 - val_accuracy: 0.0000e+00\n",
      "Epoch 20/20\n",
      "32/32 [==============================] - 17s 531ms/step - loss: 0.2975 - accuracy: 0.9067 - val_loss: 0.0000e+00 - val_accuracy: 0.0000e+00\n"
     ]
    }
   ],
   "source": [
    "model_without_aug = make_model()\n",
    "\n",
    "no_aug_history = model_without_aug.fit(non_augmented_train_batches, epochs=5, validation_data=validation_batches)\n",
    "\n",
    "model_with_aug = make_model()\n",
    "\n",
    "aug_history = model_with_aug.fit(augmented_train_batches, epochs=5, validation_data=validation_batches)"
   ]
  },
  {
   "cell_type": "markdown",
   "metadata": {},
   "source": [
    "Plotten der Ergebnisse:"
   ]
  },
  {
   "cell_type": "code",
   "execution_count": 11,
   "metadata": {},
   "outputs": [
    {
     "data": {
      "image/png": "[encoded data removed]",
      "text/plain": [
       "<Figure size 720x432 with 1 Axes>"
      ]
     },
     "metadata": {
      "needs_background": "light"
     },
     "output_type": "display_data"
    }
   ],
   "source": [
    "# Ausgabe des Trainingsverlaufs als Diagramm\n",
    "plt.figure(figsize = (10, 6))\n",
    "plt.plot(range(5), no_aug_history.history[\"accuracy\"], \"red\", label = \"Not Augmented - Training\")\n",
    "plt.plot(range(5), no_aug_history.history[\"val_accuracy\"], \"orange\", label = \"Not Augmented - Validierung\")\n",
    "plt.plot(range(5), aug_history.history[\"accuracy\"], \"darkblue\", label = \"Augmented - Training\")\n",
    "plt.plot(range(5), aug_history.history[\"val_accuracy\"], \"lightblue\", label = \"Augmented - Validierung\")\n",
    "plt.title(\"Accuracy: Training & Validierung\")\n",
    "plt.ylabel(\"Accuracy\")\n",
    "plt.xlabel(\"Epoche\")\n",
    "plt.legend()\n",
    "plt.show()"
   ]
  },
  {
   "cell_type": "markdown",
   "metadata": {},
   "source": [
    "## Schlussteil <div id=\"schluss\" />"
   ]
  },
  {
   "cell_type": "code",
   "execution_count": null,
   "metadata": {},
   "outputs": [],
   "source": []
  },
  {
   "cell_type": "markdown",
   "metadata": {},
   "source": [
    "## Quellenverzeichnis <div id=\"quellen\" />\n",
    "- https://machinelearningmastery.com/learning-curves-for-diagnosing-machine-learning-model-performance/\n",
    "- https://www.tensorflow.org/tutorials/images/data_augmentation\n",
    "- https://www.tensorflow.org/datasets/overview\n",
    "- http://yann.lecun.com/exdb/mnist/"
   ]
  },
  {
   "cell_type": "code",
   "execution_count": null,
   "metadata": {},
   "outputs": [],
   "source": []
  }
 ],
 "metadata": {
  "kernelspec": {
   "display_name": "Python 3",
   "language": "python",
   "name": "python3"
  },
  "language_info": {
   "codemirror_mode": {
    "name": "ipython",
    "version": 3
   },
   "file_extension": ".py",
   "mimetype": "text/x-python",
   "name": "python",
   "nbconvert_exporter": "python",
   "pygments_lexer": "ipython3",
   "version": "3.7.7"
  },
  "pycharm": {
   "stem_cell": {
    "cell_type": "raw",
    "metadata": {
     "collapsed": false
    },
    "source": []
   }
  }
 },
 "nbformat": 4,
 "nbformat_minor": 4
}
